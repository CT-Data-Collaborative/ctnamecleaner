{
 "cells": [
  {
   "cell_type": "markdown",
   "id": "b55348ed-1ddb-4405-8af0-9c5d1a44b1ff",
   "metadata": {},
   "source": [
    "# Test & clean up ctnamecleaner.csv"
   ]
  },
  {
   "cell_type": "code",
   "execution_count": 1,
   "id": "8b918243-0084-457b-b695-fe1a48fdd7dc",
   "metadata": {},
   "outputs": [],
   "source": [
    "import pandas as pd"
   ]
  },
  {
   "cell_type": "code",
   "execution_count": 15,
   "id": "170f617e-198a-4947-b351-737aeefc99a5",
   "metadata": {},
   "outputs": [],
   "source": [
    "ctnamecleaner = (\n",
    "    pd.read_csv('../ctnamecleaner.csv')\n",
    "    .drop_duplicates() # remove duplicate rows\n",
    ")"
   ]
  },
  {
   "cell_type": "code",
   "execution_count": 20,
   "id": "a186bc6e-0fb8-47b6-82c1-2358d11e18d1",
   "metadata": {},
   "outputs": [],
   "source": [
    "# Ensure each name appears only once\n",
    "assert ctnamecleaner.name.nunique() == ctnamecleaner.shape[0]"
   ]
  },
  {
   "cell_type": "code",
   "execution_count": 21,
   "id": "d3b6d7d1-9c5f-449e-bf60-3ff3a3b10388",
   "metadata": {},
   "outputs": [],
   "source": [
    "# Ensure there are only 169 'real' town names\n",
    "assert ctnamecleaner.realname.nunique() == 169"
   ]
  },
  {
   "cell_type": "code",
   "execution_count": 27,
   "id": "50412869-a788-49d7-ba78-cfe956c12831",
   "metadata": {},
   "outputs": [],
   "source": [
    "# Ensure we have a lookup where name=realname for 169 towns\n",
    "assert ctnamecleaner.query('name == realname').shape[0] == 169"
   ]
  },
  {
   "cell_type": "code",
   "execution_count": 28,
   "id": "9c40fd9c-c229-4127-8a4a-6ab7feac72fb",
   "metadata": {},
   "outputs": [],
   "source": [
    "# Sort alphabetically & save as CSV\n",
    "\n",
    "(\n",
    "    ctnamecleaner\n",
    "    .sort_values(by=['name', 'realname'])\n",
    "    .to_csv('../ctnamecleaner_fixed.csv', index=False)\n",
    ")"
   ]
  },
  {
   "cell_type": "code",
   "execution_count": null,
   "id": "c4e1e620-6d9c-4d8e-bb8a-a7010d1a3a25",
   "metadata": {},
   "outputs": [],
   "source": []
  }
 ],
 "metadata": {
  "kernelspec": {
   "display_name": "Python 3 (ipykernel)",
   "language": "python",
   "name": "python3"
  },
  "language_info": {
   "codemirror_mode": {
    "name": "ipython",
    "version": 3
   },
   "file_extension": ".py",
   "mimetype": "text/x-python",
   "name": "python",
   "nbconvert_exporter": "python",
   "pygments_lexer": "ipython3",
   "version": "3.11.5"
  }
 },
 "nbformat": 4,
 "nbformat_minor": 5
}
